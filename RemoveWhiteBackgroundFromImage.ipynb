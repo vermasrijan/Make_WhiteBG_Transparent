{
 "cells": [
  {
   "cell_type": "code",
   "execution_count": 5,
   "metadata": {},
   "outputs": [],
   "source": [
    "##Working code#####\n",
    "\n",
    "from PIL import Image\n",
    "img = Image.open('data/saucepan.jpg')\n",
    "img = img.convert(\"RGBA\")\n",
    "datas = img.getdata()   # Getting all the pixel values in 'datas' variable .\n",
    "newData = []            # Making a new list .\n"
   ]
  },
  {
   "cell_type": "markdown",
   "metadata": {},
   "source": [
    "# Given below snippet does the following job-->\n",
    "Traversing through all the pixel values in datas variable .\n",
    "If all the 3 RGB values are 255 (i.e white), then make that pixel transparent by setting the 'alpha'  \n",
    "equal to zero .\n",
    "Rest add the pixel values as they are in the newData list ."
   ]
  },
  {
   "cell_type": "code",
   "execution_count": null,
   "metadata": {},
   "outputs": [],
   "source": [
    "for item in datas:                                           \n",
    "    if item[0] == 255 and item[1] == 255 and item[2] == 255:  \n",
    "                                                               \n",
    "        newData.append((255, 255, 255, 0))                   \n",
    "    else:\n",
    "        newData.append(item)                                 "
   ]
  },
  {
   "cell_type": "code",
   "execution_count": null,
   "metadata": {},
   "outputs": [],
   "source": [
    "img.putdata(newData)                          # putdata in the img variable  . \n",
    "img.save(\"data/Output.png\", \"PNG\")            # Save the new image in 'png' format .   "
   ]
  }
 ],
 "metadata": {
  "kernelspec": {
   "display_name": "Python [conda env:anaconda3]",
   "language": "python",
   "name": "conda-env-anaconda3-py"
  },
  "language_info": {
   "codemirror_mode": {
    "name": "ipython",
    "version": 3
   },
   "file_extension": ".py",
   "mimetype": "text/x-python",
   "name": "python",
   "nbconvert_exporter": "python",
   "pygments_lexer": "ipython3",
   "version": "3.6.5"
  }
 },
 "nbformat": 4,
 "nbformat_minor": 2
}
