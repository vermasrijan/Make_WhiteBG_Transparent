{
 "cells": [
  {
   "cell_type": "code",
   "execution_count": 5,
   "metadata": {},
   "outputs": [],
   "source": [
    "##Working code#####\n",
    "\n",
    "from PIL import Image\n",
    "img = Image.open('data/saucepan.jpg')\n",
    "img = img.convert(\"RGBA\")\n",
    "datas = img.getdata()                                        # Getting all the pixel values in 'datas' variable .\n",
    "newData = []                                                 # Making a new list .\n",
    "\n",
    "for item in datas:                                           # Traversing through all the pixel values in datas variable .\n",
    "    if item[0] == 255 and item[1] == 255 and item[2] == 255: # If all the 3 RGB values are 255 (i.e white), \n",
    "                                                             # then make that pixel transparent by setting the 'alpha'  \n",
    "        newData.append((255, 255, 255, 0))                   # equal to zero .\n",
    "    else:\n",
    "        newData.append(item)                                 # Rest add the pixel values as they are in the newData list .\n",
    "\n",
    "img.putdata(newData)                                         # putdata in the img variable  . \n",
    "img.save(\"data/Output.png\", \"PNG\")                     # Save the new image in 'png' format .   \n"
   ]
  },
  {
   "cell_type": "code",
   "execution_count": null,
   "metadata": {},
   "outputs": [],
   "source": []
  }
 ],
 "metadata": {
  "kernelspec": {
   "display_name": "Python [conda env:anaconda3]",
   "language": "python",
   "name": "conda-env-anaconda3-py"
  },
  "language_info": {
   "codemirror_mode": {
    "name": "ipython",
    "version": 3
   },
   "file_extension": ".py",
   "mimetype": "text/x-python",
   "name": "python",
   "nbconvert_exporter": "python",
   "pygments_lexer": "ipython3",
   "version": "3.6.5"
  }
 },
 "nbformat": 4,
 "nbformat_minor": 2
}
